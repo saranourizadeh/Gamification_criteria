{
 "cells": [
  {
   "cell_type": "code",
   "execution_count": 1,
   "metadata": {},
   "outputs": [],
   "source": [
    "import pandas as pd\n",
    "import numpy as np\n",
    "import matplotlib.pyplot as plt\n",
    "import seaborn as sns"
   ]
  },
  {
   "cell_type": "code",
   "execution_count": 2,
   "metadata": {},
   "outputs": [],
   "source": [
    "##read Data\n",
    "data = pd.read_csv('data.csv')"
   ]
  },
  {
   "cell_type": "code",
   "execution_count": 3,
   "metadata": {},
   "outputs": [],
   "source": [
    "def data_weekly_base(data, num_week):\n",
    "    return data[data['LAST_X_WEEKS'] == num_week]\n",
    "\n",
    "def active_user (data):\n",
    "    sub_data = data.drop(columns= ['USER_ID','LAST_X_WEEKS'])\n",
    "\n",
    "    NaN_data_id = sub_data.isnull().all(axis=1)\n",
    "\n",
    "    return  data[~NaN_data_id]\n"
   ]
  },
  {
   "cell_type": "code",
   "execution_count": 39,
   "metadata": {},
   "outputs": [],
   "source": [
    "def Analysis_weekly (data,week ):\n",
    "\n",
    "    #seperating active users\n",
    "    active_user_data = active_user(data)\n",
    "    All_user_data = data.fillna(0)\n",
    "\n",
    "    #replace NaN with 0 for active users\n",
    "    active_user_data.fillna(0, inplace = True)\n",
    "\n",
    "    #including NaN\n",
    "    All_data_weeks = data_weekly_base(All_user_data,week)\n",
    "    #With NaN\n",
    "    active_data_weeks = data_weekly_base(active_user_data,week)\n",
    "\n",
    "    print(active_data_weeks.describe())\n",
    "    #print summary\n",
    "    # print('data summary considering all user: ',All_data_weeks.describe() )\n",
    "    # print('/n')\n",
    "    # print('data summary of active user: ',active_data_weeks.describe() )\n",
    "\n",
    "\n",
    "    #as a baseline we will compute median for each engagements and then we will deside to\n",
    "    #to have a meaningful criteria that it makes sense.\n",
    "    # active user analysis\n",
    "\n",
    "\n",
    "    print(\n",
    "        f\"● Event Planner: At least {int(active_user_data['EVENTS_CREATED'].quantile(0.75))} events with { int(active_user_data['EVENT_PARTICIPANTS'].quantile(0.75))} participants in {week} weeks.\",\n",
    "        f\"● Conversation Starter: At least {int(active_user_data['POSTS_CREATED'].quantile(0.75))} posts with {int(active_user_data['REPLIES_RECEIVED'].quantile(0.75))} replies in {week} weeks. \",\n",
    "        f\"● Philanthropist: At least {int(active_user_data['ITEMS_GIFTED'].quantile(0.75))} items gifted on the marketplace in {week} weeks.\",\n",
    "        f\"● Helping Hand: At least {int(active_user_data['THANKYOUS_RECEIVED'].quantile(0.75))} thankyou messages received in {week} weeks. \",\n",
    "        f\"● Local Guide: At least {int(active_user_data['PLACES_RECOMMENDED'].quantile(0.75))} places recommended in {week} weeks.\"\n",
    "    )\n",
    "\n",
    "    # badge_criteria = {\n",
    "    # 'Event Planner': {'events': int(active_user_data['EVENTS_CREATED'].quantile(0.75)), 'participants': int(active_user_data['EVENT_PARTICIPANTS'].quantile(0.75)), 'weeks': week},\n",
    "    # 'Conversation Starter': {'posts': int(active_user_data['POSTS_CREATED'].quantile(0.75)), 'replies': int(active_user_data['REPLIES_RECEIVED'].quantile(0.75)), 'weeks': week},\n",
    "    # 'Philanthropist': {'items': int(active_user_data['ITEMS_GIFTED'].quantile(0.75)), 'weeks': week},\n",
    "    # 'Helping Hand': {'thankyous': int(active_user_data['THANKYOUS_RECEIVED'].quantile(0.75)), 'weeks': week},\n",
    "    # 'Local Guide': {'places': int(active_user_data['PLACES_RECOMMENDED'].quantile(0.75)), 'weeks': week}\n",
    "    # }\n",
    "    # print(badge_criteria)\n",
    "    return active_data_weeks\n"
   ]
  },
  {
   "cell_type": "code",
   "execution_count": 1,
   "metadata": {},
   "outputs": [
    {
     "ename": "NameError",
     "evalue": "name 'Analysis_weekly' is not defined",
     "output_type": "error",
     "traceback": [
      "\u001b[0;31m---------------------------------------------------------------------------\u001b[0m",
      "\u001b[0;31mNameError\u001b[0m                                 Traceback (most recent call last)",
      "Cell \u001b[0;32mIn [1], line 1\u001b[0m\n\u001b[0;32m----> 1\u001b[0m data_4_week \u001b[38;5;241m=\u001b[39m \u001b[43mAnalysis_weekly\u001b[49m (data,\u001b[38;5;241m4\u001b[39m )\n",
      "\u001b[0;31mNameError\u001b[0m: name 'Analysis_weekly' is not defined"
     ]
    }
   ],
   "source": [
    "data_4_week = Analysis_weekly (data,4 );"
   ]
  },
  {
   "cell_type": "code",
   "execution_count": 34,
   "metadata": {},
   "outputs": [
    {
     "name": "stdout",
     "output_type": "stream",
     "text": [
      "            USER_ID  LAST_X_WEEKS  POSTS_CREATED  REPLIES_RECEIVED  \\\n",
      "count  11511.000000       11511.0   11511.000000      11511.000000   \n",
      "mean    9960.270089           6.0       0.957606          1.713144   \n",
      "std     5759.162569           0.0       3.664744          3.784334   \n",
      "min        1.000000           6.0       0.000000          0.000000   \n",
      "25%     5011.500000           6.0       0.000000          0.000000   \n",
      "50%     9962.000000           6.0       1.000000          0.000000   \n",
      "75%    14953.000000           6.0       1.000000          2.000000   \n",
      "max    19998.000000           6.0     373.000000         71.000000   \n",
      "\n",
      "       THANKYOUS_RECEIVED  EVENTS_CREATED  EVENT_PARTICIPANTS  ITEMS_GIFTED  \\\n",
      "count        11511.000000    11511.000000        11511.000000  11511.000000   \n",
      "mean             1.056207        0.160021            0.273564      0.426983   \n",
      "std              4.223848        0.758459            1.412540      1.226778   \n",
      "min              0.000000        0.000000            0.000000      0.000000   \n",
      "25%              0.000000        0.000000            0.000000      0.000000   \n",
      "50%              0.000000        0.000000            0.000000      0.000000   \n",
      "75%              1.000000        0.000000            0.000000      0.000000   \n",
      "max            115.000000       36.000000           57.000000     49.000000   \n",
      "\n",
      "       PLACES_RECOMMENDED  \n",
      "count        11511.000000  \n",
      "mean             0.338719  \n",
      "std              1.664844  \n",
      "min              0.000000  \n",
      "25%              0.000000  \n",
      "50%              0.000000  \n",
      "75%              0.000000  \n",
      "max             72.000000  \n",
      "{'Event Planner': {'events': 0, 'participants': 0, 'weeks': 6}, 'Conversation Starter': {'posts': 1, 'replies': 0, 'weeks': 6}, 'Philanthropist': {'items': 0, 'weeks': 6}, 'Helping Hand': {'thankyous': 0, 'weeks': 6}, 'Local Guide': {'places': 0, 'weeks': 6}}\n"
     ]
    },
    {
     "name": "stderr",
     "output_type": "stream",
     "text": [
      "/var/folders/70/w1cc1c9s1vlcsg8zgv1gr6680000gn/T/ipykernel_25685/1030305793.py:8: SettingWithCopyWarning: \n",
      "A value is trying to be set on a copy of a slice from a DataFrame\n",
      "\n",
      "See the caveats in the documentation: https://pandas.pydata.org/pandas-docs/stable/user_guide/indexing.html#returning-a-view-versus-a-copy\n",
      "  active_user_data.fillna(0, inplace = True)\n"
     ]
    }
   ],
   "source": [
    "data_6_week = Analysis_weekly (data,6 );"
   ]
  },
  {
   "cell_type": "code",
   "execution_count": 36,
   "metadata": {},
   "outputs": [
    {
     "data": {
      "text/html": [
       "<div>\n",
       "<style scoped>\n",
       "    .dataframe tbody tr th:only-of-type {\n",
       "        vertical-align: middle;\n",
       "    }\n",
       "\n",
       "    .dataframe tbody tr th {\n",
       "        vertical-align: top;\n",
       "    }\n",
       "\n",
       "    .dataframe thead th {\n",
       "        text-align: right;\n",
       "    }\n",
       "</style>\n",
       "<table border=\"1\" class=\"dataframe\">\n",
       "  <thead>\n",
       "    <tr style=\"text-align: right;\">\n",
       "      <th></th>\n",
       "      <th>USER_ID</th>\n",
       "      <th>LAST_X_WEEKS</th>\n",
       "      <th>POSTS_CREATED</th>\n",
       "      <th>REPLIES_RECEIVED</th>\n",
       "      <th>THANKYOUS_RECEIVED</th>\n",
       "      <th>EVENTS_CREATED</th>\n",
       "      <th>EVENT_PARTICIPANTS</th>\n",
       "      <th>ITEMS_GIFTED</th>\n",
       "      <th>PLACES_RECOMMENDED</th>\n",
       "    </tr>\n",
       "  </thead>\n",
       "  <tbody>\n",
       "    <tr>\n",
       "      <th>count</th>\n",
       "      <td>11511.00</td>\n",
       "      <td>11511.0</td>\n",
       "      <td>11511.00</td>\n",
       "      <td>11511.00</td>\n",
       "      <td>11511.00</td>\n",
       "      <td>11511.00</td>\n",
       "      <td>11511.00</td>\n",
       "      <td>11511.00</td>\n",
       "      <td>11511.00</td>\n",
       "    </tr>\n",
       "    <tr>\n",
       "      <th>mean</th>\n",
       "      <td>9960.27</td>\n",
       "      <td>6.0</td>\n",
       "      <td>0.96</td>\n",
       "      <td>1.71</td>\n",
       "      <td>1.06</td>\n",
       "      <td>0.16</td>\n",
       "      <td>0.27</td>\n",
       "      <td>0.43</td>\n",
       "      <td>0.34</td>\n",
       "    </tr>\n",
       "    <tr>\n",
       "      <th>std</th>\n",
       "      <td>5759.16</td>\n",
       "      <td>0.0</td>\n",
       "      <td>3.66</td>\n",
       "      <td>3.78</td>\n",
       "      <td>4.22</td>\n",
       "      <td>0.76</td>\n",
       "      <td>1.41</td>\n",
       "      <td>1.23</td>\n",
       "      <td>1.66</td>\n",
       "    </tr>\n",
       "    <tr>\n",
       "      <th>min</th>\n",
       "      <td>1.00</td>\n",
       "      <td>6.0</td>\n",
       "      <td>0.00</td>\n",
       "      <td>0.00</td>\n",
       "      <td>0.00</td>\n",
       "      <td>0.00</td>\n",
       "      <td>0.00</td>\n",
       "      <td>0.00</td>\n",
       "      <td>0.00</td>\n",
       "    </tr>\n",
       "    <tr>\n",
       "      <th>25%</th>\n",
       "      <td>5011.50</td>\n",
       "      <td>6.0</td>\n",
       "      <td>0.00</td>\n",
       "      <td>0.00</td>\n",
       "      <td>0.00</td>\n",
       "      <td>0.00</td>\n",
       "      <td>0.00</td>\n",
       "      <td>0.00</td>\n",
       "      <td>0.00</td>\n",
       "    </tr>\n",
       "    <tr>\n",
       "      <th>50%</th>\n",
       "      <td>9962.00</td>\n",
       "      <td>6.0</td>\n",
       "      <td>1.00</td>\n",
       "      <td>0.00</td>\n",
       "      <td>0.00</td>\n",
       "      <td>0.00</td>\n",
       "      <td>0.00</td>\n",
       "      <td>0.00</td>\n",
       "      <td>0.00</td>\n",
       "    </tr>\n",
       "    <tr>\n",
       "      <th>75%</th>\n",
       "      <td>14953.00</td>\n",
       "      <td>6.0</td>\n",
       "      <td>1.00</td>\n",
       "      <td>2.00</td>\n",
       "      <td>1.00</td>\n",
       "      <td>0.00</td>\n",
       "      <td>0.00</td>\n",
       "      <td>0.00</td>\n",
       "      <td>0.00</td>\n",
       "    </tr>\n",
       "    <tr>\n",
       "      <th>max</th>\n",
       "      <td>19998.00</td>\n",
       "      <td>6.0</td>\n",
       "      <td>373.00</td>\n",
       "      <td>71.00</td>\n",
       "      <td>115.00</td>\n",
       "      <td>36.00</td>\n",
       "      <td>57.00</td>\n",
       "      <td>49.00</td>\n",
       "      <td>72.00</td>\n",
       "    </tr>\n",
       "  </tbody>\n",
       "</table>\n",
       "</div>"
      ],
      "text/plain": [
       "        USER_ID  LAST_X_WEEKS  POSTS_CREATED  REPLIES_RECEIVED  \\\n",
       "count  11511.00       11511.0       11511.00          11511.00   \n",
       "mean    9960.27           6.0           0.96              1.71   \n",
       "std     5759.16           0.0           3.66              3.78   \n",
       "min        1.00           6.0           0.00              0.00   \n",
       "25%     5011.50           6.0           0.00              0.00   \n",
       "50%     9962.00           6.0           1.00              0.00   \n",
       "75%    14953.00           6.0           1.00              2.00   \n",
       "max    19998.00           6.0         373.00             71.00   \n",
       "\n",
       "       THANKYOUS_RECEIVED  EVENTS_CREATED  EVENT_PARTICIPANTS  ITEMS_GIFTED  \\\n",
       "count            11511.00        11511.00            11511.00      11511.00   \n",
       "mean                 1.06            0.16                0.27          0.43   \n",
       "std                  4.22            0.76                1.41          1.23   \n",
       "min                  0.00            0.00                0.00          0.00   \n",
       "25%                  0.00            0.00                0.00          0.00   \n",
       "50%                  0.00            0.00                0.00          0.00   \n",
       "75%                  1.00            0.00                0.00          0.00   \n",
       "max                115.00           36.00               57.00         49.00   \n",
       "\n",
       "       PLACES_RECOMMENDED  \n",
       "count            11511.00  \n",
       "mean                 0.34  \n",
       "std                  1.66  \n",
       "min                  0.00  \n",
       "25%                  0.00  \n",
       "50%                  0.00  \n",
       "75%                  0.00  \n",
       "max                 72.00  "
      ]
     },
     "execution_count": 36,
     "metadata": {},
     "output_type": "execute_result"
    }
   ],
   "source": [
    "data_6_week.describe().round(2)"
   ]
  },
  {
   "cell_type": "markdown",
   "metadata": {},
   "source": [
    "# 8-weeks\n"
   ]
  },
  {
   "cell_type": "code",
   "execution_count": 44,
   "metadata": {},
   "outputs": [
    {
     "name": "stdout",
     "output_type": "stream",
     "text": [
      "            USER_ID  LAST_X_WEEKS  POSTS_CREATED  REPLIES_RECEIVED  \\\n",
      "count  14482.000000       14482.0   14482.000000      14482.000000   \n",
      "mean   10005.028311           8.0       1.028794          1.840630   \n",
      "std     5770.048782           0.0       4.213626          4.279189   \n",
      "min        1.000000           8.0       0.000000          0.000000   \n",
      "25%     5021.500000           8.0       0.000000          0.000000   \n",
      "50%    10008.500000           8.0       1.000000          0.000000   \n",
      "75%    15010.750000           8.0       1.000000          2.000000   \n",
      "max    19998.000000           8.0     482.000000        110.000000   \n",
      "\n",
      "       THANKYOUS_RECEIVED  EVENTS_CREATED  EVENT_PARTICIPANTS  ITEMS_GIFTED  \\\n",
      "count        14482.000000    14482.000000        14482.000000  14482.000000   \n",
      "mean             1.138517        0.168692            0.288082      0.456636   \n",
      "std              4.561469        0.827455            1.500089      1.332952   \n",
      "min              0.000000        0.000000            0.000000      0.000000   \n",
      "25%              0.000000        0.000000            0.000000      0.000000   \n",
      "50%              0.000000        0.000000            0.000000      0.000000   \n",
      "75%              1.000000        0.000000            0.000000      0.000000   \n",
      "max            139.000000       36.000000           57.000000     55.000000   \n",
      "\n",
      "       PLACES_RECOMMENDED  \n",
      "count        14482.000000  \n",
      "mean             0.327027  \n",
      "std              1.609936  \n",
      "min              0.000000  \n",
      "25%              0.000000  \n",
      "50%              0.000000  \n",
      "75%              0.000000  \n",
      "max             72.000000  \n",
      "● Event Planner: At least 0 events with 0 participants in 8 weeks. ● Conversation Starter: At least 1 posts with 2 replies in 8 weeks.  ● Philanthropist: At least 0 items gifted on the marketplace in 8 weeks. ● Helping Hand: At least 1 thankyou messages received in 8 weeks.  ● Local Guide: At least 0 places recommended in 8 weeks.\n"
     ]
    },
    {
     "name": "stderr",
     "output_type": "stream",
     "text": [
      "/var/folders/70/w1cc1c9s1vlcsg8zgv1gr6680000gn/T/ipykernel_25685/525919848.py:8: SettingWithCopyWarning: \n",
      "A value is trying to be set on a copy of a slice from a DataFrame\n",
      "\n",
      "See the caveats in the documentation: https://pandas.pydata.org/pandas-docs/stable/user_guide/indexing.html#returning-a-view-versus-a-copy\n",
      "  active_user_data.fillna(0, inplace = True)\n"
     ]
    }
   ],
   "source": [
    "data_8_week = Analysis_weekly (data,8 );\n"
   ]
  },
  {
   "cell_type": "code",
   "execution_count": 47,
   "metadata": {},
   "outputs": [
    {
     "data": {
      "text/html": [
       "<div>\n",
       "<style scoped>\n",
       "    .dataframe tbody tr th:only-of-type {\n",
       "        vertical-align: middle;\n",
       "    }\n",
       "\n",
       "    .dataframe tbody tr th {\n",
       "        vertical-align: top;\n",
       "    }\n",
       "\n",
       "    .dataframe thead th {\n",
       "        text-align: right;\n",
       "    }\n",
       "</style>\n",
       "<table border=\"1\" class=\"dataframe\">\n",
       "  <thead>\n",
       "    <tr style=\"text-align: right;\">\n",
       "      <th></th>\n",
       "      <th>USER_ID</th>\n",
       "      <th>LAST_X_WEEKS</th>\n",
       "      <th>POSTS_CREATED</th>\n",
       "      <th>REPLIES_RECEIVED</th>\n",
       "      <th>THANKYOUS_RECEIVED</th>\n",
       "      <th>EVENTS_CREATED</th>\n",
       "      <th>EVENT_PARTICIPANTS</th>\n",
       "      <th>ITEMS_GIFTED</th>\n",
       "      <th>PLACES_RECOMMENDED</th>\n",
       "    </tr>\n",
       "  </thead>\n",
       "  <tbody>\n",
       "    <tr>\n",
       "      <th>count</th>\n",
       "      <td>14482.00</td>\n",
       "      <td>14482.0</td>\n",
       "      <td>14482.00</td>\n",
       "      <td>14482.00</td>\n",
       "      <td>14482.00</td>\n",
       "      <td>14482.00</td>\n",
       "      <td>14482.00</td>\n",
       "      <td>14482.00</td>\n",
       "      <td>14482.00</td>\n",
       "    </tr>\n",
       "    <tr>\n",
       "      <th>mean</th>\n",
       "      <td>10005.03</td>\n",
       "      <td>8.0</td>\n",
       "      <td>1.03</td>\n",
       "      <td>1.84</td>\n",
       "      <td>1.14</td>\n",
       "      <td>0.17</td>\n",
       "      <td>0.29</td>\n",
       "      <td>0.46</td>\n",
       "      <td>0.33</td>\n",
       "    </tr>\n",
       "    <tr>\n",
       "      <th>std</th>\n",
       "      <td>5770.05</td>\n",
       "      <td>0.0</td>\n",
       "      <td>4.21</td>\n",
       "      <td>4.28</td>\n",
       "      <td>4.56</td>\n",
       "      <td>0.83</td>\n",
       "      <td>1.50</td>\n",
       "      <td>1.33</td>\n",
       "      <td>1.61</td>\n",
       "    </tr>\n",
       "    <tr>\n",
       "      <th>min</th>\n",
       "      <td>1.00</td>\n",
       "      <td>8.0</td>\n",
       "      <td>0.00</td>\n",
       "      <td>0.00</td>\n",
       "      <td>0.00</td>\n",
       "      <td>0.00</td>\n",
       "      <td>0.00</td>\n",
       "      <td>0.00</td>\n",
       "      <td>0.00</td>\n",
       "    </tr>\n",
       "    <tr>\n",
       "      <th>25%</th>\n",
       "      <td>5021.50</td>\n",
       "      <td>8.0</td>\n",
       "      <td>0.00</td>\n",
       "      <td>0.00</td>\n",
       "      <td>0.00</td>\n",
       "      <td>0.00</td>\n",
       "      <td>0.00</td>\n",
       "      <td>0.00</td>\n",
       "      <td>0.00</td>\n",
       "    </tr>\n",
       "    <tr>\n",
       "      <th>50%</th>\n",
       "      <td>10008.50</td>\n",
       "      <td>8.0</td>\n",
       "      <td>1.00</td>\n",
       "      <td>0.00</td>\n",
       "      <td>0.00</td>\n",
       "      <td>0.00</td>\n",
       "      <td>0.00</td>\n",
       "      <td>0.00</td>\n",
       "      <td>0.00</td>\n",
       "    </tr>\n",
       "    <tr>\n",
       "      <th>75%</th>\n",
       "      <td>15010.75</td>\n",
       "      <td>8.0</td>\n",
       "      <td>1.00</td>\n",
       "      <td>2.00</td>\n",
       "      <td>1.00</td>\n",
       "      <td>0.00</td>\n",
       "      <td>0.00</td>\n",
       "      <td>0.00</td>\n",
       "      <td>0.00</td>\n",
       "    </tr>\n",
       "    <tr>\n",
       "      <th>max</th>\n",
       "      <td>19998.00</td>\n",
       "      <td>8.0</td>\n",
       "      <td>482.00</td>\n",
       "      <td>110.00</td>\n",
       "      <td>139.00</td>\n",
       "      <td>36.00</td>\n",
       "      <td>57.00</td>\n",
       "      <td>55.00</td>\n",
       "      <td>72.00</td>\n",
       "    </tr>\n",
       "  </tbody>\n",
       "</table>\n",
       "</div>"
      ],
      "text/plain": [
       "        USER_ID  LAST_X_WEEKS  POSTS_CREATED  REPLIES_RECEIVED  \\\n",
       "count  14482.00       14482.0       14482.00          14482.00   \n",
       "mean   10005.03           8.0           1.03              1.84   \n",
       "std     5770.05           0.0           4.21              4.28   \n",
       "min        1.00           8.0           0.00              0.00   \n",
       "25%     5021.50           8.0           0.00              0.00   \n",
       "50%    10008.50           8.0           1.00              0.00   \n",
       "75%    15010.75           8.0           1.00              2.00   \n",
       "max    19998.00           8.0         482.00            110.00   \n",
       "\n",
       "       THANKYOUS_RECEIVED  EVENTS_CREATED  EVENT_PARTICIPANTS  ITEMS_GIFTED  \\\n",
       "count            14482.00        14482.00            14482.00      14482.00   \n",
       "mean                 1.14            0.17                0.29          0.46   \n",
       "std                  4.56            0.83                1.50          1.33   \n",
       "min                  0.00            0.00                0.00          0.00   \n",
       "25%                  0.00            0.00                0.00          0.00   \n",
       "50%                  0.00            0.00                0.00          0.00   \n",
       "75%                  1.00            0.00                0.00          0.00   \n",
       "max                139.00           36.00               57.00         55.00   \n",
       "\n",
       "       PLACES_RECOMMENDED  \n",
       "count            14482.00  \n",
       "mean                 0.33  \n",
       "std                  1.61  \n",
       "min                  0.00  \n",
       "25%                  0.00  \n",
       "50%                  0.00  \n",
       "75%                  0.00  \n",
       "max                 72.00  "
      ]
     },
     "execution_count": 47,
     "metadata": {},
     "output_type": "execute_result"
    }
   ],
   "source": [
    "data_8_week.describe().round(2)"
   ]
  },
  {
   "cell_type": "markdown",
   "metadata": {},
   "source": [
    "# 12-weeks"
   ]
  },
  {
   "cell_type": "code",
   "execution_count": 49,
   "metadata": {},
   "outputs": [
    {
     "name": "stdout",
     "output_type": "stream",
     "text": [
      "            USER_ID  LAST_X_WEEKS  POSTS_CREATED  REPLIES_RECEIVED  \\\n",
      "count  20000.000000       20000.0   20000.000000      20000.000000   \n",
      "mean   10000.500000          12.0       1.162150          2.123350   \n",
      "std     5773.647028           0.0       5.194074          4.921153   \n",
      "min        1.000000          12.0       0.000000          0.000000   \n",
      "25%     5000.750000          12.0       0.000000          0.000000   \n",
      "50%    10000.500000          12.0       1.000000          0.000000   \n",
      "75%    15000.250000          12.0       1.000000          3.000000   \n",
      "max    20000.000000          12.0     698.000000        139.000000   \n",
      "\n",
      "       THANKYOUS_RECEIVED  EVENTS_CREATED  EVENT_PARTICIPANTS  ITEMS_GIFTED  \\\n",
      "count        20000.000000    20000.000000        20000.000000  20000.000000   \n",
      "mean             1.287550        0.183650            0.314000      0.471000   \n",
      "std              5.172002        0.911133            1.650588      1.427537   \n",
      "min              0.000000        0.000000            0.000000      0.000000   \n",
      "25%              0.000000        0.000000            0.000000      0.000000   \n",
      "50%              0.000000        0.000000            0.000000      0.000000   \n",
      "75%              1.000000        0.000000            0.000000      0.000000   \n",
      "max            194.000000       36.000000           58.000000     58.000000   \n",
      "\n",
      "       PLACES_RECOMMENDED  \n",
      "count        20000.000000  \n",
      "mean             0.340350  \n",
      "std              1.918749  \n",
      "min              0.000000  \n",
      "25%              0.000000  \n",
      "50%              0.000000  \n",
      "75%              0.000000  \n",
      "max            155.000000  \n",
      "● Event Planner: At least 0 events with 0 participants in 12 weeks. ● Conversation Starter: At least 1 posts with 2 replies in 12 weeks.  ● Philanthropist: At least 0 items gifted on the marketplace in 12 weeks. ● Helping Hand: At least 1 thankyou messages received in 12 weeks.  ● Local Guide: At least 0 places recommended in 12 weeks.\n"
     ]
    },
    {
     "name": "stderr",
     "output_type": "stream",
     "text": [
      "/var/folders/70/w1cc1c9s1vlcsg8zgv1gr6680000gn/T/ipykernel_25685/525919848.py:8: SettingWithCopyWarning: \n",
      "A value is trying to be set on a copy of a slice from a DataFrame\n",
      "\n",
      "See the caveats in the documentation: https://pandas.pydata.org/pandas-docs/stable/user_guide/indexing.html#returning-a-view-versus-a-copy\n",
      "  active_user_data.fillna(0, inplace = True)\n"
     ]
    }
   ],
   "source": [
    "data_12_week = Analysis_weekly (data,12 );"
   ]
  },
  {
   "cell_type": "code",
   "execution_count": 50,
   "metadata": {},
   "outputs": [
    {
     "data": {
      "text/html": [
       "<div>\n",
       "<style scoped>\n",
       "    .dataframe tbody tr th:only-of-type {\n",
       "        vertical-align: middle;\n",
       "    }\n",
       "\n",
       "    .dataframe tbody tr th {\n",
       "        vertical-align: top;\n",
       "    }\n",
       "\n",
       "    .dataframe thead th {\n",
       "        text-align: right;\n",
       "    }\n",
       "</style>\n",
       "<table border=\"1\" class=\"dataframe\">\n",
       "  <thead>\n",
       "    <tr style=\"text-align: right;\">\n",
       "      <th></th>\n",
       "      <th>USER_ID</th>\n",
       "      <th>LAST_X_WEEKS</th>\n",
       "      <th>POSTS_CREATED</th>\n",
       "      <th>REPLIES_RECEIVED</th>\n",
       "      <th>THANKYOUS_RECEIVED</th>\n",
       "      <th>EVENTS_CREATED</th>\n",
       "      <th>EVENT_PARTICIPANTS</th>\n",
       "      <th>ITEMS_GIFTED</th>\n",
       "      <th>PLACES_RECOMMENDED</th>\n",
       "    </tr>\n",
       "  </thead>\n",
       "  <tbody>\n",
       "    <tr>\n",
       "      <th>count</th>\n",
       "      <td>20000.00</td>\n",
       "      <td>20000.0</td>\n",
       "      <td>20000.00</td>\n",
       "      <td>20000.00</td>\n",
       "      <td>20000.00</td>\n",
       "      <td>20000.00</td>\n",
       "      <td>20000.00</td>\n",
       "      <td>20000.00</td>\n",
       "      <td>20000.00</td>\n",
       "    </tr>\n",
       "    <tr>\n",
       "      <th>mean</th>\n",
       "      <td>10000.50</td>\n",
       "      <td>12.0</td>\n",
       "      <td>1.16</td>\n",
       "      <td>2.12</td>\n",
       "      <td>1.29</td>\n",
       "      <td>0.18</td>\n",
       "      <td>0.31</td>\n",
       "      <td>0.47</td>\n",
       "      <td>0.34</td>\n",
       "    </tr>\n",
       "    <tr>\n",
       "      <th>std</th>\n",
       "      <td>5773.65</td>\n",
       "      <td>0.0</td>\n",
       "      <td>5.19</td>\n",
       "      <td>4.92</td>\n",
       "      <td>5.17</td>\n",
       "      <td>0.91</td>\n",
       "      <td>1.65</td>\n",
       "      <td>1.43</td>\n",
       "      <td>1.92</td>\n",
       "    </tr>\n",
       "    <tr>\n",
       "      <th>min</th>\n",
       "      <td>1.00</td>\n",
       "      <td>12.0</td>\n",
       "      <td>0.00</td>\n",
       "      <td>0.00</td>\n",
       "      <td>0.00</td>\n",
       "      <td>0.00</td>\n",
       "      <td>0.00</td>\n",
       "      <td>0.00</td>\n",
       "      <td>0.00</td>\n",
       "    </tr>\n",
       "    <tr>\n",
       "      <th>25%</th>\n",
       "      <td>5000.75</td>\n",
       "      <td>12.0</td>\n",
       "      <td>0.00</td>\n",
       "      <td>0.00</td>\n",
       "      <td>0.00</td>\n",
       "      <td>0.00</td>\n",
       "      <td>0.00</td>\n",
       "      <td>0.00</td>\n",
       "      <td>0.00</td>\n",
       "    </tr>\n",
       "    <tr>\n",
       "      <th>50%</th>\n",
       "      <td>10000.50</td>\n",
       "      <td>12.0</td>\n",
       "      <td>1.00</td>\n",
       "      <td>0.00</td>\n",
       "      <td>0.00</td>\n",
       "      <td>0.00</td>\n",
       "      <td>0.00</td>\n",
       "      <td>0.00</td>\n",
       "      <td>0.00</td>\n",
       "    </tr>\n",
       "    <tr>\n",
       "      <th>75%</th>\n",
       "      <td>15000.25</td>\n",
       "      <td>12.0</td>\n",
       "      <td>1.00</td>\n",
       "      <td>3.00</td>\n",
       "      <td>1.00</td>\n",
       "      <td>0.00</td>\n",
       "      <td>0.00</td>\n",
       "      <td>0.00</td>\n",
       "      <td>0.00</td>\n",
       "    </tr>\n",
       "    <tr>\n",
       "      <th>max</th>\n",
       "      <td>20000.00</td>\n",
       "      <td>12.0</td>\n",
       "      <td>698.00</td>\n",
       "      <td>139.00</td>\n",
       "      <td>194.00</td>\n",
       "      <td>36.00</td>\n",
       "      <td>58.00</td>\n",
       "      <td>58.00</td>\n",
       "      <td>155.00</td>\n",
       "    </tr>\n",
       "  </tbody>\n",
       "</table>\n",
       "</div>"
      ],
      "text/plain": [
       "        USER_ID  LAST_X_WEEKS  POSTS_CREATED  REPLIES_RECEIVED  \\\n",
       "count  20000.00       20000.0       20000.00          20000.00   \n",
       "mean   10000.50          12.0           1.16              2.12   \n",
       "std     5773.65           0.0           5.19              4.92   \n",
       "min        1.00          12.0           0.00              0.00   \n",
       "25%     5000.75          12.0           0.00              0.00   \n",
       "50%    10000.50          12.0           1.00              0.00   \n",
       "75%    15000.25          12.0           1.00              3.00   \n",
       "max    20000.00          12.0         698.00            139.00   \n",
       "\n",
       "       THANKYOUS_RECEIVED  EVENTS_CREATED  EVENT_PARTICIPANTS  ITEMS_GIFTED  \\\n",
       "count            20000.00        20000.00            20000.00      20000.00   \n",
       "mean                 1.29            0.18                0.31          0.47   \n",
       "std                  5.17            0.91                1.65          1.43   \n",
       "min                  0.00            0.00                0.00          0.00   \n",
       "25%                  0.00            0.00                0.00          0.00   \n",
       "50%                  0.00            0.00                0.00          0.00   \n",
       "75%                  1.00            0.00                0.00          0.00   \n",
       "max                194.00           36.00               58.00         58.00   \n",
       "\n",
       "       PLACES_RECOMMENDED  \n",
       "count            20000.00  \n",
       "mean                 0.34  \n",
       "std                  1.92  \n",
       "min                  0.00  \n",
       "25%                  0.00  \n",
       "50%                  0.00  \n",
       "75%                  0.00  \n",
       "max                155.00  "
      ]
     },
     "execution_count": 50,
     "metadata": {},
     "output_type": "execute_result"
    }
   ],
   "source": [
    "data_12_week.describe().round(2)"
   ]
  },
  {
   "cell_type": "code",
   "execution_count": 53,
   "metadata": {},
   "outputs": [
    {
     "data": {
      "text/plain": [
       "0.3182"
      ]
     },
     "execution_count": 53,
     "metadata": {},
     "output_type": "execute_result"
    }
   ],
   "source": [
    "##check if longer time -> more chance to have thank you message\n",
    "\n",
    "len(data_12_week[data_12_week['THANKYOUS_RECEIVED']>=1])/len(data_12_week)\n"
   ]
  },
  {
   "cell_type": "code",
   "execution_count": 54,
   "metadata": {},
   "outputs": [
    {
     "data": {
      "text/plain": [
       "0.29547023891727664"
      ]
     },
     "execution_count": 54,
     "metadata": {},
     "output_type": "execute_result"
    }
   ],
   "source": [
    "len(data_8_week[data_8_week['THANKYOUS_RECEIVED']>=1])/len(data_8_week)\n"
   ]
  },
  {
   "cell_type": "code",
   "execution_count": 55,
   "metadata": {},
   "outputs": [
    {
     "data": {
      "text/plain": [
       "0.2789505690209365"
      ]
     },
     "execution_count": 55,
     "metadata": {},
     "output_type": "execute_result"
    }
   ],
   "source": [
    "len(data_6_week[data_6_week['THANKYOUS_RECEIVED']>=1])/len(data_6_week)\n"
   ]
  },
  {
   "cell_type": "code",
   "execution_count": 68,
   "metadata": {},
   "outputs": [],
   "source": [
    "columns  = [col for col in data.columns]\n",
    "columns.remove('USER_ID')\n",
    "\n",
    "columns.remove('LAST_X_WEEKS')"
   ]
  },
  {
   "cell_type": "code",
   "execution_count": 71,
   "metadata": {},
   "outputs": [
    {
     "name": "stdout",
     "output_type": "stream",
     "text": [
      "4-weeks for POSTS_CREATED:  0.6300242130750605\n",
      "6-weeks for POSTS_CREATED:  0.6518113109199896\n",
      "8-weeks for POSTS_CREATED:  0.6662753763292363\n",
      "12-weeks for POSTS_CREATED:  0.68725\n",
      "4-weeks for REPLIES_RECEIVED:  0.3840193704600484\n",
      "6-weeks for REPLIES_RECEIVED:  0.40430892190079054\n",
      "8-weeks for REPLIES_RECEIVED:  0.4167242093633476\n",
      "12-weeks for REPLIES_RECEIVED:  0.44105\n",
      "4-weeks for THANKYOUS_RECEIVED:  0.2576271186440678\n",
      "6-weeks for THANKYOUS_RECEIVED:  0.2789505690209365\n",
      "8-weeks for THANKYOUS_RECEIVED:  0.29547023891727664\n",
      "12-weeks for THANKYOUS_RECEIVED:  0.3182\n",
      "4-weeks for EVENTS_CREATED:  0.10278450363196126\n",
      "6-weeks for EVENTS_CREATED:  0.09712448961862566\n",
      "8-weeks for EVENTS_CREATED:  0.0950145007595636\n",
      "12-weeks for EVENTS_CREATED:  0.09805\n",
      "4-weeks for EVENT_PARTICIPANTS:  0.09987893462469734\n",
      "6-weeks for EVENT_PARTICIPANTS:  0.09347580575102077\n",
      "8-weeks for EVENT_PARTICIPANTS:  0.0917000414307416\n",
      "12-weeks for EVENT_PARTICIPANTS:  0.09505\n",
      "4-weeks for ITEMS_GIFTED:  0.23619854721549638\n",
      "6-weeks for ITEMS_GIFTED:  0.24202936321779167\n",
      "8-weeks for ITEMS_GIFTED:  0.24803203977351196\n",
      "12-weeks for ITEMS_GIFTED:  0.24475\n",
      "4-weeks for PLACES_RECOMMENDED:  0.12651331719128328\n",
      "6-weeks for PLACES_RECOMMENDED:  0.1290939101728781\n",
      "8-weeks for PLACES_RECOMMENDED:  0.12933296506007458\n",
      "12-weeks for PLACES_RECOMMENDED:  0.13615\n"
     ]
    }
   ],
   "source": [
    "#calculate Likelihood for all engagements\n",
    "for column in columns:\n",
    "    print(f\"4-weeks for {column}: \", len(data_4_week[data_4_week[column]>=1])/len(data_4_week))\n",
    "    # print('/n')\n",
    "    print(f\"6-weeks for {column}: \", len(data_6_week[data_6_week[column]>=1])/len(data_6_week))\n",
    "    # print('/n')\n",
    "    print(f\"8-weeks for {column}: \", len(data_8_week[data_8_week[column]>=1])/len(data_8_week))\n",
    "    # print('/n')\n",
    "    print(f\"12-weeks for {column}: \", len(data_12_week[data_12_week[column]>=1])/len(data_12_week))\n"
   ]
  },
  {
   "cell_type": "code",
   "execution_count": 75,
   "metadata": {},
   "outputs": [
    {
     "name": "stdout",
     "output_type": "stream",
     "text": [
      "4-weeks for REPLIES_RECEIVED:  0.3840193704600484\n",
      "6-weeks for REPLIES_RECEIVED:  0.40430892190079054\n",
      "8-weeks for REPLIES_RECEIVED:  0.4167242093633476\n",
      "12-weeks for REPLIES_RECEIVED:  0.44105\n"
     ]
    }
   ],
   "source": [
    "print(f\"4-weeks for {'REPLIES_RECEIVED'}: \", len(data_4_week[data_4_week['REPLIES_RECEIVED']>=1])/len(data_4_week))\n",
    "# print('/n')\n",
    "print(f\"6-weeks for {'REPLIES_RECEIVED'}: \", len(data_6_week[data_6_week['REPLIES_RECEIVED']>=1])/len(data_6_week))\n",
    "# print('/n')\n",
    "print(f\"8-weeks for {'REPLIES_RECEIVED'}: \", len(data_8_week[data_8_week['REPLIES_RECEIVED']>=1])/len(data_8_week))\n",
    "# print('/n')\n",
    "print(f\"12-weeks for {'REPLIES_RECEIVED'}: \", len(data_12_week[data_12_week['REPLIES_RECEIVED']>=1])/len(data_12_week))"
   ]
  },
  {
   "cell_type": "markdown",
   "metadata": {},
   "source": [
    "# criteria in the app"
   ]
  },
  {
   "cell_type": "code",
   "execution_count": 78,
   "metadata": {},
   "outputs": [],
   "source": [
    "# Calculate total number of posts created in 4 weeks\n",
    "total_posts = data_4_week['POSTS_CREATED'].sum()\n",
    "\n",
    "# Calculate number of posts that received replies\n",
    "posts_with_replies = data_4_week[data_4_week['REPLIES_RECEIVED'] > 0]['POSTS_CREATED'].sum()\n",
    "\n",
    "# Calculate the conditional probability\n",
    "conditional_probability = posts_with_replies / total_posts"
   ]
  },
  {
   "cell_type": "code",
   "execution_count": 79,
   "metadata": {},
   "outputs": [
    {
     "name": "stdout",
     "output_type": "stream",
     "text": [
      "Conditional Probability of receiving replies given a post is created: 0.68\n"
     ]
    }
   ],
   "source": [
    "print(f'Conditional Probability of receiving replies for a post: {conditional_probability:.2f}')\n"
   ]
  },
  {
   "cell_type": "code",
   "execution_count": 80,
   "metadata": {},
   "outputs": [
    {
     "data": {
      "text/plain": [
       "12400.0"
      ]
     },
     "execution_count": 80,
     "metadata": {},
     "output_type": "execute_result"
    }
   ],
   "source": [
    "data_4_week['REPLIES_RECEIVED'].sum()"
   ]
  },
  {
   "cell_type": "code",
   "execution_count": null,
   "metadata": {},
   "outputs": [],
   "source": []
  }
 ],
 "metadata": {
  "kernelspec": {
   "display_name": "lewagon",
   "language": "python",
   "name": "python3"
  },
  "language_info": {
   "codemirror_mode": {
    "name": "ipython",
    "version": 3
   },
   "file_extension": ".py",
   "mimetype": "text/x-python",
   "name": "python",
   "nbconvert_exporter": "python",
   "pygments_lexer": "ipython3",
   "version": "3.10.6"
  }
 },
 "nbformat": 4,
 "nbformat_minor": 2
}
